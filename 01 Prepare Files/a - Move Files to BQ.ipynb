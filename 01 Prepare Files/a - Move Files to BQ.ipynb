{
  "nbformat": 4,
  "nbformat_minor": 0,
  "metadata": {
    "colab": {
      "name": "a - Move Files to BQ.ipynb",
      "provenance": [],
      "collapsed_sections": [],
      "authorship_tag": "ABX9TyMif7cZbB1BrwQrYhdKHTnD",
      "include_colab_link": true
    },
    "kernelspec": {
      "name": "python3",
      "display_name": "Python 3"
    }
  },
  "cells": [
    {
      "cell_type": "markdown",
      "metadata": {
        "id": "view-in-github",
        "colab_type": "text"
      },
      "source": [
        "<a href=\"https://colab.research.google.com/github/celinagacias/ph-icd-library/blob/master/01%20Prepare%20Files/a%20-%20Move%20Files%20to%20BQ.ipynb\" target=\"_parent\"><img src=\"https://colab.research.google.com/assets/colab-badge.svg\" alt=\"Open In Colab\"/></a>"
      ]
    },
    {
      "cell_type": "markdown",
      "metadata": {
        "id": "fmkuy9e-l27c",
        "colab_type": "text"
      },
      "source": [
        "# Reading Files into BQ\n",
        "\n",
        "1. Claims in .csv\n",
        "2. ACR medical and procedure codes\n",
        "3. TDRG rules\n",
        "4. RVS-ICD9 mapping from 2012\n",
        "\n",
        "\n",
        "\n",
        "### Claims\n",
        "Steps for loading big .csv files from GCS to BQ from: \n",
        "- https://medium.com/@philipplies/transferring-data-from-google-drive-to-google-cloud-storage-using-google-colab-96e088a8c041"
      ]
    },
    {
      "cell_type": "code",
      "metadata": {
        "id": "hHnDwX7DlL_Q",
        "colab_type": "code",
        "colab": {}
      },
      "source": [
        "!pip install -U -q PyDrive\n",
        "\n",
        "import pandas as pd\n",
        "import pandas_gbq as gbq\n",
        "import numpy as np\n",
        "import xlrd\n",
        "import itertools\n",
        "import gspread\n",
        "\n",
        "from pydrive.auth import GoogleAuth\n",
        "from pydrive.drive import GoogleDrive\n",
        "from google.colab import auth, drive\n",
        "from oauth2client.client import GoogleCredentials"
      ],
      "execution_count": 0,
      "outputs": []
    },
    {
      "cell_type": "code",
      "metadata": {
        "id": "c_MFfDoNlUW9",
        "colab_type": "code",
        "outputId": "ad3e6cbe-0320-4f48-f916-18f7ecdfd328",
        "colab": {
          "base_uri": "https://localhost:8080/",
          "height": 126
        }
      },
      "source": [
        "#Authenticate user\n",
        "auth.authenticate_user()\n",
        "gauth = GoogleAuth()\n",
        "\n",
        "#Mount GDrive\n",
        "gdrive = GoogleDrive(gauth)\n",
        "gauth.credentials = GoogleCredentials.get_application_default()\n",
        "drive.mount('/content/drive')\n",
        "gc = gspread.authorize(GoogleCredentials.get_application_default())"
      ],
      "execution_count": 0,
      "outputs": [
        {
          "output_type": "stream",
          "text": [
            "Go to this URL in a browser: https://accounts.google.com/o/oauth2/auth?client_id=947318989803-6bn6qk8qdgf4n4g3pfee6491hc0brc4i.apps.googleusercontent.com&redirect_uri=urn%3aietf%3awg%3aoauth%3a2.0%3aoob&response_type=code&scope=email%20https%3a%2f%2fwww.googleapis.com%2fauth%2fdocs.test%20https%3a%2f%2fwww.googleapis.com%2fauth%2fdrive%20https%3a%2f%2fwww.googleapis.com%2fauth%2fdrive.photos.readonly%20https%3a%2f%2fwww.googleapis.com%2fauth%2fpeopleapi.readonly\n",
            "\n",
            "Enter your authorization code:\n",
            "··········\n",
            "Mounted at /content/drive\n"
          ],
          "name": "stdout"
        }
      ]
    },
    {
      "cell_type": "markdown",
      "metadata": {
        "id": "Uj8evKeKnILc",
        "colab_type": "text"
      },
      "source": [
        "### 1. Claims"
      ]
    },
    {
      "cell_type": "code",
      "metadata": {
        "id": "zqexZOB1lgeL",
        "colab_type": "code",
        "outputId": "d866116d-1931-434d-ff2d-1a7a05cf4d04",
        "colab": {
          "base_uri": "https://localhost:8080/",
          "height": 52
        }
      },
      "source": [
        "#Connect to the GCS bucket\n",
        "project_id = 'drg-claims'\n",
        "!gcloud config set project {project_id}\n",
        "!gsutil ls"
      ],
      "execution_count": 0,
      "outputs": [
        {
          "output_type": "stream",
          "text": [
            "Updated property [core/project].\n",
            "gs://drg_2020/\n"
          ],
          "name": "stdout"
        }
      ]
    },
    {
      "cell_type": "code",
      "metadata": {
        "id": "UjFi-c_unJyd",
        "colab_type": "code",
        "outputId": "4b0c06ee-b2cd-4515-9309-80e34648076e",
        "colab": {
          "base_uri": "https://localhost:8080/",
          "height": 312
        }
      },
      "source": [
        "#Copy files from GDrive to the GCS bucket\n",
        "bucket = 'drg_2020'\n",
        "!gsutil -m cp -r /content/drive/My\\ Drive/PPM/01_DRG/DRG_Classification/0_Major_Datasets/claims_* gs://drg_2020"
      ],
      "execution_count": 0,
      "outputs": [
        {
          "output_type": "stream",
          "text": [
            "Copying file:///content/drive/My Drive/PPM/01_DRG/DRG_Classification/0_Major_Datasets/claims_2016.csv [Content-Type=text/csv]...\n",
            "==> NOTE: You are uploading one or more large file(s), which would run\n",
            "significantly faster if you enable parallel composite uploads. This\n",
            "feature can be enabled by editing the\n",
            "\"parallel_composite_upload_threshold\" value in your .boto\n",
            "configuration file. However, note that if you do this large files will\n",
            "be uploaded as `composite objects\n",
            "<https://cloud.google.com/storage/docs/composite-objects>`_,which\n",
            "means that any user who downloads such objects will need to have a\n",
            "compiled crcmod installed (see \"gsutil help crcmod\"). This is because\n",
            "without a compiled crcmod, computing checksums on composite objects is\n",
            "so slow that gsutil disables downloads of composite objects.\n",
            "\n",
            "Copying file:///content/drive/My Drive/PPM/01_DRG/DRG_Classification/0_Major_Datasets/claims_2018.csv [Content-Type=text/csv]...\n",
            "Copying file:///content/drive/My Drive/PPM/01_DRG/DRG_Classification/0_Major_Datasets/claims_2017.csv [Content-Type=text/csv]...\n",
            "\\\n",
            "Operation completed over 3 objects/7.8 GiB.                                      \n"
          ],
          "name": "stdout"
        }
      ]
    },
    {
      "cell_type": "code",
      "metadata": {
        "id": "sC_fRMow1kQO",
        "colab_type": "code",
        "outputId": "06b54aab-bb97-4c81-9630-395aa171a60b",
        "colab": {
          "base_uri": "https://localhost:8080/",
          "height": 121
        }
      },
      "source": [
        "#Specify the schema and load into BQ\n",
        "from google.cloud import bigquery\n",
        "client = bigquery.Client('drg-claims')\n",
        "dataset_id = 'claims'\n",
        "\n",
        "  #Set job_config\n",
        "dataset_ref = client.dataset(dataset_id)\n",
        "job_config = bigquery.LoadJobConfig(\n",
        "  write_disposition = bigquery.WriteDisposition.WRITE_TRUNCATE,\n",
        "  schema = [\n",
        "    bigquery.SchemaField(\"series\", \"STRING\"),\n",
        "    bigquery.SchemaField(\"check_year\", \"FLOAT64\"),\n",
        "    bigquery.SchemaField(\"pseudo_pin\", \"STRING\"),\n",
        "    bigquery.SchemaField(\"patient_type\", \"STRING\"),\n",
        "    bigquery.SchemaField(\"member_category\", \"STRING\"),\n",
        "    bigquery.SchemaField(\"member_subcategory\", \"STRING\"),\n",
        "    bigquery.SchemaField(\"patage\", \"FLOAT64\"),\n",
        "    bigquery.SchemaField(\"patsex\", \"STRING\"),\n",
        "    bigquery.SchemaField(\"date_adm\", \"STRING\"),\n",
        "    bigquery.SchemaField(\"date_dis\", \"STRING\"),\n",
        "    bigquery.SchemaField(\"disposition\", \"STRING\"),\n",
        "    bigquery.SchemaField(\"status\", \"STRING\"),\n",
        "    bigquery.SchemaField(\"accommodation_type\", \"STRING\"),\n",
        "    bigquery.SchemaField(\"inst_code\", \"STRING\"),\n",
        "    bigquery.SchemaField(\"out_patient\", \"STRING\"),\n",
        "    bigquery.SchemaField(\"c1\", \"STRING\"),\n",
        "    bigquery.SchemaField(\"c2\", \"STRING\"),\n",
        "    bigquery.SchemaField(\"icdcode1\", \"STRING\"),\n",
        "    bigquery.SchemaField(\"icdcode2\", \"STRING\"),\n",
        "    bigquery.SchemaField(\"icdcode3\", \"STRING\"),\n",
        "    bigquery.SchemaField(\"icdcode4\", \"STRING\"),\n",
        "    bigquery.SchemaField(\"icdcode5\", \"STRING\"),\n",
        "    bigquery.SchemaField(\"icdcode6\", \"STRING\"),\n",
        "    bigquery.SchemaField(\"icdcode7\", \"STRING\"),\n",
        "    bigquery.SchemaField(\"icdcode8\", \"STRING\"),\n",
        "    bigquery.SchemaField(\"icdcode9\", \"STRING\"),\n",
        "    bigquery.SchemaField(\"icdcode10\", \"STRING\"),\n",
        "    bigquery.SchemaField(\"rvscode1\", \"STRING\"),\n",
        "    bigquery.SchemaField(\"rvscode2\", \"STRING\"),\n",
        "    bigquery.SchemaField(\"rvscode3\", \"STRING\"),\n",
        "    bigquery.SchemaField(\"rvscode4\", \"STRING\"),\n",
        "    bigquery.SchemaField(\"rvscode5\", \"STRING\"),\n",
        "    bigquery.SchemaField(\"claims_amount\", \"FLOAT64\"),\n",
        "    bigquery.SchemaField(\"actual_amount\", \"FLOAT64\"),\n",
        "    bigquery.SchemaField(\"inst_name\", \"STRING\"),\n",
        "    bigquery.SchemaField(\"cat\", \"STRING\"),\n",
        "    bigquery.SchemaField(\"municipality_name\", \"STRING\"),\n",
        "    bigquery.SchemaField(\"province_name\", \"STRING\"),\n",
        "    bigquery.SchemaField(\"soc_sector\", \"STRING\")\n",
        "    ],\n",
        "  skip_leading_rows = 1,\n",
        "  ignore_unknown_values = True,\n",
        "  max_bad_records = 1000000) #Not ideal!\n",
        "\n",
        "#Load the tables from GCS\n",
        "\n",
        "for claims in [\"claims_2016\", \"claims_2017\", \"claims_2018\"]:\n",
        "  uri = \"gs://drg_2020/\" + claims + \".csv\"\n",
        "  load_job = client.load_table_from_uri(\n",
        "      uri, dataset_ref.table(claims), job_config=job_config\n",
        "  ) \n",
        "\n",
        "  print(\"Starting job {} for {}\".format(load_job.job_id, claims))\n",
        "\n",
        "  load_job.result()\n",
        "  print(\"Job finished.\")\n",
        "\n",
        "  #Throw the table into BQ\n",
        "  destination_table = client.get_table(dataset_ref.table(claims))\n",
        "  print(\"Loaded {} rows.\".format(destination_table.num_rows))"
      ],
      "execution_count": 0,
      "outputs": [
        {
          "output_type": "stream",
          "text": [
            "Starting job 65345de9-f10b-4232-b96b-5454fd76de31 for claims_2017\n",
            "Job finished.\n",
            "Loaded 11131960 rows.\n",
            "Starting job 3c0c4e9c-cab6-4718-959f-6b4a24453265 for claims_2018\n",
            "Job finished.\n",
            "Loaded 11761376 rows.\n"
          ],
          "name": "stdout"
        }
      ]
    },
    {
      "cell_type": "code",
      "metadata": {
        "id": "x5z2_swFZGTi",
        "colab_type": "code",
        "outputId": "38cf7780-fe83-49be-8dd2-4a673f984d80",
        "colab": {
          "base_uri": "https://localhost:8080/",
          "height": 52
        }
      },
      "source": [
        "#Created partitioned tables, fix some columns\n",
        "for claims in [\"claims_2016\", \"claims_2017\", \"claims_2018\"]:\n",
        "  table_id = \"drg-claims.claims.{}\".format(claims)\n",
        "  job_config_new = bigquery.QueryJobConfig()\n",
        "\n",
        "  partition = \"\"\"\n",
        "  CREATE TABLE {}\n",
        "  PARTITION BY date_adm\n",
        "  AS\n",
        "  SELECT\n",
        "    * EXCEPT(check_year,\n",
        "      date_adm,\n",
        "      date_dis),\n",
        "    CAST(check_year AS INT64) check_year,\n",
        "    DATE(PARSE_DATETIME(\"%m/%d/%Y %I:%M %p\",\n",
        "        date_adm)) date_adm,\n",
        "    DATE(PARSE_DATETIME(\"%m/%d/%Y %I:%M %p\",\n",
        "        date_dis)) date_dis,\n",
        "    PARSE_DATETIME(\"%m/%d/%Y %I:%M %p\",\n",
        "      date_adm) date_adm_time,\n",
        "    PARSE_DATETIME(\"%m/%d/%Y %I:%M %p\",\n",
        "      date_dis) date_dis_time\n",
        "  FROM\n",
        "    `{}`\n",
        "  \"\"\".format(table_id + \"_partitioned\", table_id)\n",
        "\n",
        "  query_job = client.query(partition, job_config=job_config_new)  # Make an API request.\n",
        "  query_job.result()  # Wait for the job to complete.\n",
        "\n",
        "  print(\"Partitioned table loaded to the table {}\".format(table_id))"
      ],
      "execution_count": 0,
      "outputs": [
        {
          "output_type": "stream",
          "text": [
            "Partitioned table loaded to the table drg-claims.claims.claims_2017\n",
            "Partitioned table loaded to the table drg-claims.claims.claims_2018\n"
          ],
          "name": "stdout"
        }
      ]
    },
    {
      "cell_type": "markdown",
      "metadata": {
        "id": "3kR0Z0qcnKHO",
        "colab_type": "text"
      },
      "source": [
        "### ACR Codes"
      ]
    },
    {
      "cell_type": "code",
      "metadata": {
        "id": "qQIrlZbK41aT",
        "colab_type": "code",
        "outputId": "8c6ec972-8835-4b65-b019-4e8d9e3b765b",
        "colab": {
          "base_uri": "https://localhost:8080/",
          "height": 87
        }
      },
      "source": [
        "#List down all the files in the \"Major datasets\" GFolder\n",
        "major_id = \"1JGNQUf07w0tvLoxsw-5-uhe7vUHxpLIb\"\n",
        "major_files = gdrive.ListFile({'q': \"'\" + major_id + \"'\" + \" in parents and trashed=false\"}).GetList()\n",
        "\n",
        "#Obtain the files for medical and procedural case rates\n",
        "acr_files = [f for f in major_files if 'ACR' in f['title']]\n",
        "for a in acr_files:\n",
        "  acr_gfile = gdrive.CreateFile({'id': a['id']})\n",
        "  acr_gfile.GetContentFile(a['title'])\n",
        "\n",
        "  #Read in medical ACR\n",
        "acr_diag = pd.ExcelFile('ACR Medical Case Rates.xls').parse('medical')\n",
        "acr_diag = acr_diag.iloc[4:, :6]\n",
        "acr_diag.columns = ['icd10','icd_desc','acr_group','cr','pf','hci']\n",
        "\n",
        "  #Read in procedural ACR\n",
        "acr_prod = pd.ExcelFile('ACR Procedure Case Rate.xlsx').parse('ANNEX 2 REVISION 3')\n",
        "acr_prod = acr_prod.iloc[4:]\n",
        "acr_prod.columns= ['rvs','rvu','rvs_desc','cr','pf','hci']\n",
        "acr_prod = acr_prod[acr_prod.rvs.notnull()]\n",
        "\n",
        "#Read them to BQ\n",
        "gbq.to_gbq(acr_diag, 'acr.diagnoses', project_id='drg-claims', if_exists='replace')\n",
        "gbq.to_gbq(acr_prod, 'acr.procedures', project_id='drg-claims', if_exists='replace')"
      ],
      "execution_count": 0,
      "outputs": [
        {
          "output_type": "stream",
          "text": [
            "\n",
            "1it [00:02,  2.73s/it]\n",
            "\n",
            "1it [00:04,  4.35s/it]\n"
          ],
          "name": "stderr"
        }
      ]
    },
    {
      "cell_type": "markdown",
      "metadata": {
        "id": "FGdUMDf9tf1d",
        "colab_type": "text"
      },
      "source": [
        "### TDRG Rules"
      ]
    },
    {
      "cell_type": "code",
      "metadata": {
        "id": "Tmts01EjthDI",
        "colab_type": "code",
        "outputId": "44a6a74a-e5e8-4a3c-95f0-b6d3f7a1db58",
        "colab": {
          "base_uri": "https://localhost:8080/",
          "height": 35
        }
      },
      "source": [
        "#Folder with the TDRG rules files\n",
        "rules_id = \"1M0jssvtjMcvR1uVxOw9woKP2jDYlQyAD\"\n",
        "rules_files = gdrive.ListFile({'q': \"'\" + rules_id + \"'\" + \" in parents and trashed=false\"}).GetList()\n",
        "\n",
        "  #Read them from GDrive and load to BQ\n",
        "tdrg_files = {'ICD-10 Codes for Reimbursement.xlsx': 'tdrg.icd10',\n",
        "              'ICD-9-CM Procedures per MDC.xlsx': 'tdrg.icd9_to_mdc',\n",
        "              'Dagger and Asterisk Codes.xlsx': 'tdrg.dagger_asterisk',\n",
        "              'ICD-9-CM Procedures.xlsx': 'tdrg.icd9cm',\n",
        "              'PDC.xlsx': 'tdrg.pdc',\n",
        "              'DC.xlsx': 'tdrg.dc',\n",
        "              'CCLM.xlsx': 'tdrg.cclm',\n",
        "              'ICD-10 with Descriptions.xlsx': 'tdrg.icd10_vx',\n",
        "              'ICD-9-CM with Descriptions.xlsx': 'tdrg.icd9_vx'}\n",
        "\n",
        "for filename in ['ICD-9-CM with Descriptions.xlsx']:\n",
        "  efile = [f for f in rules_files if f['title'] == filename][0]\n",
        "  gfile = gdrive.CreateFile({'id': efile['id']})\n",
        "  gfile.GetContentFile(gfile['title'])\n",
        "  excel = pd.ExcelFile(gfile['title']).parse(0)\n",
        "  excel = excel[[c for c in excel.columns.values if \"Unnamed:\" not in c]]\n",
        "  gbq.to_gbq(excel, tdrg_files[filename], project_id='drg-claims', if_exists='replace')"
      ],
      "execution_count": 0,
      "outputs": [
        {
          "output_type": "stream",
          "text": [
            "1it [00:03,  3.39s/it]\n"
          ],
          "name": "stderr"
        }
      ]
    },
    {
      "cell_type": "markdown",
      "metadata": {
        "id": "FktlduP2ioni",
        "colab_type": "text"
      },
      "source": [
        "### RVS to ICD-9-CM Mapping"
      ]
    },
    {
      "cell_type": "code",
      "metadata": {
        "id": "KNYJtieFioSp",
        "colab_type": "code",
        "outputId": "5bd03df6-e8ff-452e-e3cf-60380c1cb2fa",
        "colab": {
          "base_uri": "https://localhost:8080/",
          "height": 35
        }
      },
      "source": [
        "#Get all the Excel files in the mapping folder\n",
        "  #List down the files\n",
        "# old_map_folder = \"1GRjjFOhWMfHnw_MlKdtwTsq26Wl3Zo6W\" #The old mapping, raw\n",
        "map_folder = \"1sOji5u3s0aNczXP9FIKRAKyx3ekzi51V\" #Old mapping with Doc Marc's comments\n",
        "map_files = gdrive.ListFile({'q': \"'\" + map_folder + \"'\" + \" in parents and trashed=false\"}).GetList()\n",
        "map_files = [m for m in map_files if m['mimeType'] == 'application/vnd.ms-excel']\n",
        "print(\"There are {} files to compile.\".format(len(map_files)))\n",
        "\n",
        "  #Read all of them as Excel objects into a list\n",
        "map_excels = []\n",
        "map_names = []\n",
        "for f in map_files:\n",
        "  file_id = f['id']\n",
        "  file_name = f['title']\n",
        "\n",
        "  gfile = gdrive.CreateFile({'id': file_id})\n",
        "  gfile.GetContentFile(file_name)\n",
        "\n",
        "  map_excels.append(pd.ExcelFile(file_name))\n",
        "  map_names.append(file_name)"
      ],
      "execution_count": 0,
      "outputs": [
        {
          "output_type": "stream",
          "text": [
            "There are 32 files to compile.\n"
          ],
          "name": "stdout"
        }
      ]
    },
    {
      "cell_type": "code",
      "metadata": {
        "id": "wyNzXCCjivKL",
        "colab_type": "code",
        "outputId": "d750d278-b5bd-4ad6-982e-fd2793854bea",
        "colab": {
          "base_uri": "https://localhost:8080/",
          "height": 586
        }
      },
      "source": [
        "#Parse each of the files\n",
        "organ_filename = {}\n",
        "mapping_all = []\n",
        "\n",
        "for organ_file in map_names:\n",
        "  mapping = pd.ExcelFile(organ_file).parse(0)\n",
        "  mapping = mapping.iloc[:,:6]\n",
        "\n",
        "  #Get the organ system\n",
        "  if organ_file == '26 ICD9CM Other Medicine Services (Radiology).xls':\n",
        "    organ_system = \"OTHER MEDICAL SERVICES\"\n",
        "  else:\n",
        "    organ_ind = mapping.loc[(mapping.iloc[:,0].notnull()) & (mapping.iloc[:,0].str.lower().str.startswith(\"organ system\"))].index[0]\n",
        "    organ_system = mapping.iloc[organ_ind, 0].upper().split(\"ORGAN SYSTEM:\")[1].strip()\n",
        "  \n",
        "  #Get the actual rows\n",
        "  rvs_ind = mapping.loc[(mapping.iloc[:,0].notnull()) & (mapping.iloc[:,0].str.lower().str.startswith('rvs code'))].index[0]\n",
        "  mapping = mapping[rvs_ind+1:]\n",
        "\n",
        "  #Organize the columns\n",
        "  if mapping.shape[1] == 6:\n",
        "    mapping.columns = ['rvs', 'rvs_desc','icd9cm','icd9cm_desc','remarks','feedback']\n",
        "  else:\n",
        "    mapping.columns = ['rvs', 'rvs_desc','icd9cm','icd9cm_desc','remarks']\n",
        "    mapping['feedback'] = np.nan\n",
        "  mapping['organ_system'] = organ_system\n",
        "  organ_filename[organ_system] = organ_file\n",
        "\n",
        "  #Forward fill the empty codes\n",
        "  mapping['rvs'] = mapping['rvs'].apply(lambda x: x.split('\\nAND')[0] if str(x) != 'nan' and '\\nAND' in str(x) else str(x))\n",
        "  mapping[['rvs','rvs_desc']] = mapping[['rvs','rvs_desc']].mask(mapping[['rvs','rvs_desc']]=='nan', None).ffill()\n",
        "  \n",
        "  mapping_all.append(mapping)\n",
        "  print(organ_file, organ_system)\n",
        "\n",
        "#Put everything together\n",
        "mapping_all = pd.concat(mapping_all)"
      ],
      "execution_count": 0,
      "outputs": [
        {
          "output_type": "stream",
          "text": [
            "32 ICD9CM Musculoskeletal System (Humerus to Wrist).xls MUSCULOSKELETAL (HUMERUS (UPPER ARM) AND ELBOW, FOREARM AND WRIST)\n",
            "31 ICD9CM Medicine Services.xls MEDICINE SERVICES (90935 - 99360)\n",
            "30 ICD9CM Urinary System.xls URINARY SYSTEM\n",
            "29 ICD9CM Skin.xls INTEGUMENTARY SYSTEM - SKIN, SUBCUTANEOUS, AND ACCESSORY STRUCTURES\n",
            "28 ICD9CM Respiratory System.xls RESPIRATORY SYSTEM\n",
            "27 ICD9CM Pathology Services.xls PATHOLOGY\n",
            "26 ICD9CM Other Medicine Services (Radiology).xls OTHER MEDICAL SERVICES\n",
            "25 ICD9CM Nervous System (Skull to Spinal Cord).xls NERVOUS SYSTEM (SKULL, MENINGES, BRAIN, SPINE AND SPINAL CORD)\n",
            "24 ICD9CM Musculoskeletal System (Pelvis and Hip).xls MUSCULOSKELETAL - PELVIS AND HIP JOINT\n",
            "23 ICD9CM Musculoskeletal System (Hands and Fingers).xls MUSCULOSKELETAL -HANDS AND FINGERS\n",
            "22 ICD9CM Musculoskeletal System (General).xls MUSCULOSKELETAL (GENERAL, HEAD, NECK AND THORAX)\n",
            "21 ICD9CM Musculoskeletal System (Femur and Legs).xls MUSCULOSKELETAL (FEMUR AND KNEE JOINT, LEG AND ANKLE JOINT)\n",
            "20 ICD9CM Musculoskeletal System (Body and Upper Extremity).xls MUSCULOSKELETAL (FOOT AND TOES, BODY AND UPPER EXTREMITY, LOWER EXTREMITY)\n",
            "19 ICD9CM Musculoskeletal System (Abdomen to shoulder).xls MUSCULOSKELETAL - ABDOMEN AND SHOULDER\n",
            "18 ICD9CM Mediastinum and Diaphragm.xls MEDIASTINUM AND DIAPHRAGM\n",
            "17 ICD9CM Maternity and Delivery Services.xls MATERNITY CARE AND DELIVERY\n",
            "16 ICD9CM Male Genital System.xls MALE GENITAL SYSTEM\n",
            "15 ICD9CM Hemic and Lymphatic System.xls HEMIC AND LYMPHATIC SYSTEM (SPLEEN, LYMPHNODES, LYMPHATIC CHANNELS)\n",
            "14 ICD9CM Female Genital System.xls FEMALE GENTIAL SYSTEM\n",
            "13 ICD9CM Eye and Ocular Adnexa.xls EYE AND OCULAR ADNEXAE\n",
            "12 ICD9CM Extracranial nerves (PNS and ANS).xls NERVOUS SYSTEM - (EXTRACRANIAL NERVES, PERIPHERAL NERVES, AND AUTONOMIC NERVOUS SYSTEM)\n",
            "11 ICD9CM Endocrine System.xls ENDOCRINE SYSTEM\n",
            "10 ICD9CM Digestive System (Lips to Palate).xls DIGESTIVE SYSTEM - LIPS, VESTIBULE OF MOUTH, TONGUE AND FLOOR OF MOUTH, DENTOALVEOLAR, PALATE AND UVULA)\n",
            "9 ICD9CM Digestive System (Hernias).xls DIGESTIVE SYSTEM - HERNIAS\n",
            "8 ICD9CM Digestive System (Salivary to Stomach).xls DIGESTIVE SYSTEM (SALIVARY GLANDS, PHARYNX, ADENOIDS, AND TONSILS, ESOPHAGUS, STOMACH)\n",
            "7 ICD9CM Digestive System (Anus-Appendx-Intest-Mesent).xls DIGESTIVE (ANUS, APPENDIX, INTESTINE, MESENTERY)\n",
            "6 ICD9CM Digestive System (Abd-Bili-Liv-Pan) (2).xls DIGESTIVE (ABDOMEN, BILIRUBIN, LIVER AND PANCREAS)\n",
            "5 ICD9CM Cardiovascular System (Heart and Pericardium).xls CARDIOVASCULAR SYSTEM - HEART AND PERICARDIUM\n",
            "4 ICD9CM Cardiovascular System (Arteries and Veins).xls CARDIOVASCULAR SYSTEM - ARTERIES AND VEINS\n",
            "3 ICD9CM Breast Procedures.xls BREAST\n",
            "2 ICD9CM Benefit Packages (with procedures only).xls BENEFIT PACKAGES\n",
            "1 ICD9CM Auditory System.xls AUDITORY SYSTEM\n"
          ],
          "name": "stdout"
        }
      ]
    },
    {
      "cell_type": "code",
      "metadata": {
        "id": "LiD9IQtvixjA",
        "colab_type": "code",
        "outputId": "42955795-b5c1-44c1-ca86-511fc4b73e01",
        "colab": {
          "base_uri": "https://localhost:8080/",
          "height": 35
        }
      },
      "source": [
        "#Load to BQ\n",
        "gbq.to_gbq(mapping_all,'tdrg.icd9_mapping_2012_feedback', project_id='drg-claims', if_exists='replace')"
      ],
      "execution_count": 0,
      "outputs": [
        {
          "output_type": "stream",
          "text": [
            "1it [00:03,  3.55s/it]\n"
          ],
          "name": "stderr"
        }
      ]
    },
    {
      "cell_type": "markdown",
      "metadata": {
        "id": "aetm2zwcMJOm",
        "colab_type": "text"
      },
      "source": [
        "# Separate processing for RVS to ICD9 Mapping"
      ]
    },
    {
      "cell_type": "code",
      "metadata": {
        "id": "2XuKNyV0M42u",
        "colab_type": "code",
        "colab": {}
      },
      "source": [
        "#Categorize each RVS code as being: one to one, one to many, or many to one\n",
        "onetoone = mapping_all[mapping_all.rvs.isin([x for x in mapping_all.rvs if list(mapping_all.rvs).count(x) == 1])].rvs.tolist()\n",
        "onetomany = mapping_all[mapping_all.rvs.isin([x for x in mapping_all.rvs if list(mapping_all.rvs).count(x) > 1])].rvs.tolist()\n",
        "\n",
        "mapping_all.loc[mapping_all.rvs.isin(onetoone), 'mapping_status'] = 'one is to one'\n",
        "mapping_all.loc[mapping_all.rvs.isin(onetomany), 'mapping_status'] = 'one is to many'"
      ],
      "execution_count": 0,
      "outputs": []
    },
    {
      "cell_type": "code",
      "metadata": {
        "id": "0ckEUJxSVOQJ",
        "colab_type": "code",
        "outputId": "482b8dd6-c55f-4f04-89b6-a02663752e77",
        "colab": {
          "base_uri": "https://localhost:8080/",
          "height": 764
        }
      },
      "source": [
        "#Obtain subsets for each organ system, sort, then output to excel file\n",
        "# !pip install xlsxwriter\n",
        "import xlsxwriter\n",
        "\n",
        "for o in organ_filename:\n",
        "  sub = mapping_all[mapping_all.organ_system == o]\n",
        "  sub.sort_values(['mapping_status', 'rvs'], inplace=True)\n",
        "  sub.rename(columns={'rvs': 'RVS', 'rvs_desc': 'RVS Description', 'icd9cm': 'ICD-9-CM', \n",
        "                    'icd9cm_desc': 'ICD-9-CM Description', 'remarks': 'Remarks', \n",
        "                    'feedback': 'PhilHealth Feedback', 'organ_system': 'Organ System',\n",
        "                    'mapping_status': 'Mapping Status'}, inplace=True)\n",
        "\n",
        "  filename = organ_filename[o] + \"x\"\n",
        "  writer = pd.ExcelWriter(filename, engine='xlsxwriter')\n",
        "  sub.to_excel(writer, sheet_name='Sheet1', index=False)\n",
        "\n",
        "  workbook = writer.book\n",
        "  worksheet = writer.sheets['Sheet1']\n",
        "  format = workbook.add_format({'text_wrap': True})\n",
        "\n",
        "  # Setting the format but not setting the column width\n",
        "  worksheet.set_column(\"B:F\", 50, format)\n",
        "  writer.save()\n",
        "\n",
        "  #Copy to GDrive folder\n",
        "  !cp \"$filename\" /content/drive/\"My Drive\"/PPM/01_DRG/DRG_Classification/\"1 RVS-ICD9CM Mapping\"/Datasets/\"2.1 Old RVS-ICD Mapping, Sorted\"\n",
        "  print(o)"
      ],
      "execution_count": 0,
      "outputs": [
        {
          "output_type": "stream",
          "text": [
            "/usr/local/lib/python3.6/dist-packages/ipykernel_launcher.py:5: SettingWithCopyWarning: \n",
            "A value is trying to be set on a copy of a slice from a DataFrame\n",
            "\n",
            "See the caveats in the documentation: https://pandas.pydata.org/pandas-docs/stable/user_guide/indexing.html#returning-a-view-versus-a-copy\n",
            "  \"\"\"\n",
            "/usr/local/lib/python3.6/dist-packages/pandas/core/frame.py:4133: SettingWithCopyWarning: \n",
            "A value is trying to be set on a copy of a slice from a DataFrame\n",
            "\n",
            "See the caveats in the documentation: https://pandas.pydata.org/pandas-docs/stable/user_guide/indexing.html#returning-a-view-versus-a-copy\n",
            "  errors=errors,\n"
          ],
          "name": "stderr"
        },
        {
          "output_type": "stream",
          "text": [
            "MUSCULOSKELETAL (HUMERUS (UPPER ARM) AND ELBOW, FOREARM AND WRIST)\n",
            "MEDICINE SERVICES (90935 - 99360)\n",
            "URINARY SYSTEM\n",
            "INTEGUMENTARY SYSTEM - SKIN, SUBCUTANEOUS, AND ACCESSORY STRUCTURES\n",
            "RESPIRATORY SYSTEM\n",
            "PATHOLOGY\n",
            "OTHER MEDICAL SERVICES\n",
            "NERVOUS SYSTEM (SKULL, MENINGES, BRAIN, SPINE AND SPINAL CORD)\n",
            "MUSCULOSKELETAL - PELVIS AND HIP JOINT\n",
            "MUSCULOSKELETAL -HANDS AND FINGERS\n",
            "MUSCULOSKELETAL (GENERAL, HEAD, NECK AND THORAX)\n",
            "MUSCULOSKELETAL (FEMUR AND KNEE JOINT, LEG AND ANKLE JOINT)\n",
            "MUSCULOSKELETAL (FOOT AND TOES, BODY AND UPPER EXTREMITY, LOWER EXTREMITY)\n",
            "MUSCULOSKELETAL - ABDOMEN AND SHOULDER\n",
            "MEDIASTINUM AND DIAPHRAGM\n",
            "MATERNITY CARE AND DELIVERY\n",
            "MALE GENITAL SYSTEM\n",
            "HEMIC AND LYMPHATIC SYSTEM (SPLEEN, LYMPHNODES, LYMPHATIC CHANNELS)\n",
            "FEMALE GENTIAL SYSTEM\n",
            "EYE AND OCULAR ADNEXAE\n",
            "NERVOUS SYSTEM - (EXTRACRANIAL NERVES, PERIPHERAL NERVES, AND AUTONOMIC NERVOUS SYSTEM)\n",
            "ENDOCRINE SYSTEM\n",
            "DIGESTIVE SYSTEM - LIPS, VESTIBULE OF MOUTH, TONGUE AND FLOOR OF MOUTH, DENTOALVEOLAR, PALATE AND UVULA)\n",
            "DIGESTIVE SYSTEM - HERNIAS\n",
            "DIGESTIVE SYSTEM (SALIVARY GLANDS, PHARYNX, ADENOIDS, AND TONSILS, ESOPHAGUS, STOMACH)\n",
            "DIGESTIVE (ANUS, APPENDIX, INTESTINE, MESENTERY)\n",
            "DIGESTIVE (ABDOMEN, BILIRUBIN, LIVER AND PANCREAS)\n",
            "CARDIOVASCULAR SYSTEM - HEART AND PERICARDIUM\n",
            "CARDIOVASCULAR SYSTEM - ARTERIES AND VEINS\n",
            "BREAST\n",
            "BENEFIT PACKAGES\n",
            "AUDITORY SYSTEM\n"
          ],
          "name": "stdout"
        }
      ]
    }
  ]
}